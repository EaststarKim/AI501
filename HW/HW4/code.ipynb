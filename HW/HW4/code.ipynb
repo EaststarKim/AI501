{
 "cells": [
  {
   "cell_type": "code",
   "execution_count": 1,
   "metadata": {},
   "outputs": [],
   "source": [
    "import numpy as np\n",
    "from scipy.stats import multivariate_normal as mn\n",
    "import matplotlib.pyplot as plt"
   ]
  },
  {
   "cell_type": "code",
   "execution_count": 2,
   "metadata": {},
   "outputs": [],
   "source": [
    "X=np.loadtxt('X.txt')"
   ]
  },
  {
   "cell_type": "code",
   "execution_count": 3,
   "metadata": {},
   "outputs": [],
   "source": [
    "n,d=X.shape\n",
    "k=5 # number of components\n",
    "random_seed=777"
   ]
  },
  {
   "cell_type": "code",
   "execution_count": 4,
   "metadata": {},
   "outputs": [],
   "source": [
    "### Initialize theta randomly\n",
    "np.random.seed(random_seed)\n",
    "pi=np.random.rand(k)\n",
    "pi/=sum(pi) #normalization\n",
    "mu=np.random.randn(k,d)\n",
    "sigma=[]\n",
    "for _ in range(k):\n",
    "    A=np.random.randn(d,d)\n",
    "    sigma.append(A@A.T)"
   ]
  },
  {
   "cell_type": "code",
   "execution_count": 5,
   "metadata": {},
   "outputs": [],
   "source": [
    "def E_step(pi,mu,sigma):\n",
    "    # Responsibility values\n",
    "    r=np.array([[pi[j]*mn.pdf(X[i],mu[j],sigma[j]) for j in range(k)] for i in range(n)])\n",
    "    for i in range(n):\n",
    "        s=sum(r[i])\n",
    "        for j in range(k):\n",
    "            r[i][j]/=s\n",
    "    # Complete-data log-likelihood\n",
    "    L=sum(sum(r[i][j]*(np.log(pi[j])+mn.logpdf(X[i],mu[j],sigma[j])) for j in range(k)) for i in range(n))\n",
    "    return r,L\n",
    "\n",
    "def M_step(r):\n",
    "    pi=np.array([np.mean(r[:,j]) for j in range(k)])\n",
    "    mu=np.array([sum(r[i][j]*X[i] for i in range(n))/(n*pi[j]) for j in range(k)])\n",
    "    sigma=np.array([sum(r[i][j]*np.outer(X[i]-mu[j],X[i]-mu[j]) for i in range(n))/(n*pi[j]) for j in range(k)])\n",
    "    return pi,mu,sigma"
   ]
  },
  {
   "cell_type": "code",
   "execution_count": 6,
   "metadata": {},
   "outputs": [
    {
     "name": "stdout",
     "output_type": "stream",
     "text": [
      "-13643.352022656489\n",
      "-5337.891823192428\n",
      "-4708.021625973056\n",
      "-4436.282275134983\n"
     ]
    }
   ],
   "source": [
    "t=1\n",
    "Ls=[]\n",
    "L_prev=0\n",
    "eps=1e-3\n",
    "while True:\n",
    "    r,L=E_step(pi,mu,sigma)\n",
    "    Ls.append(L)\n",
    "    if t>1 and abs(L_prev-L)<eps:\n",
    "        break\n",
    "    L_prev=L\n",
    "    pi,mu,sigma=M_step(r)\n",
    "    # Logging\n",
    "    if t%5==1:\n",
    "        print(L)\n",
    "    t+=1"
   ]
  },
  {
   "cell_type": "code",
   "execution_count": 7,
   "metadata": {},
   "outputs": [
    {
     "name": "stdout",
     "output_type": "stream",
     "text": [
      "-13643.352022656489 -4436.270817079326\n"
     ]
    }
   ],
   "source": [
    "print(Ls[0],Ls[-1])"
   ]
  },
  {
   "cell_type": "code",
   "execution_count": 8,
   "metadata": {},
   "outputs": [
    {
     "data": {
      "text/plain": [
       "<matplotlib.legend.Legend at 0x7f5a10cb7310>"
      ]
     },
     "execution_count": 8,
     "metadata": {},
     "output_type": "execute_result"
    },
    {
     "data": {
      "image/png": "[encoded data removed]",
      "text/plain": [
       "<Figure size 432x288 with 1 Axes>"
      ]
     },
     "metadata": {
      "needs_background": "light"
     },
     "output_type": "display_data"
    }
   ],
   "source": [
    "plt.plot(Ls, label='log-likelihood')\n",
    "plt.legend()"
   ]
  },
  {
   "cell_type": "code",
   "execution_count": null,
   "metadata": {},
   "outputs": [],
   "source": []
  }
 ],
 "metadata": {
  "kernelspec": {
   "display_name": "Python 3",
   "language": "python",
   "name": "python3"
  },
  "language_info": {
   "codemirror_mode": {
    "name": "ipython",
    "version": 3
   },
   "file_extension": ".py",
   "mimetype": "text/x-python",
   "name": "python",
   "nbconvert_exporter": "python",
   "pygments_lexer": "ipython3",
   "version": "3.8.5"
  }
 },
 "nbformat": 4,
 "nbformat_minor": 4
}
